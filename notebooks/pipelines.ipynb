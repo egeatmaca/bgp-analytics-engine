{
 "cells": [
  {
   "cell_type": "code",
   "execution_count": 10,
   "id": "c52c3b55-57e1-43bd-ac07-c978914256c2",
   "metadata": {},
   "outputs": [],
   "source": [
    "from pyspark.sql import SparkSession\n",
    "import pyspark.sql.types as t\n",
    "import pyspark.sql.functions as f\n",
    "import datetime as dt\n",
    "from glob import glob"
   ]
  },
  {
   "cell_type": "code",
   "execution_count": 2,
   "id": "e427549c-2278-41df-8c7f-a4c091b3a636",
   "metadata": {},
   "outputs": [
    {
     "data": {
      "text/plain": [
       "['/app/data/2023-07/2023-07-12 06:00:00.000000 - 2023-07-13 23:59:59.999999.csv',\n",
       " '/app/data/2023-07/2023-07-08 18:00:00.000000 - 2023-07-10 11:59:59.999999.csv',\n",
       " '/app/data/2023-07/2023-07-07 00:00:00.000000 - 2023-07-08 17:59:59.999999.csv',\n",
       " '/app/data/2023-07/2023-07-10 12:00:00.000000 - 2023-07-12 05:59:59.999999.csv',\n",
       " '/app/data/2024-07/2024-07-12 06:00:00 - 2024-07-13 23:59:59.999999.csv',\n",
       " '/app/data/2024-07/2024-07-10 12:00:00 - 2024-07-12 05:59:59.999999.csv',\n",
       " '/app/data/2024-07/2024-07-08 18:00:00 - 2024-07-10 11:59:59.999999.csv',\n",
       " '/app/data/2024-07/1.csv',\n",
       " '/app/data/2022-07/2022-07-07 00:00:00 - 2022-07-08 17:59:59.999999.csv',\n",
       " '/app/data/2022-07/2022-07-08 18:00:00 - 2022-07-10 11:59:59.999999.csv',\n",
       " '/app/data/2022-07/2022-07-12 06:00:00 - 2022-07-13 23:59:59.999999.csv',\n",
       " '/app/data/2022-07/2022-07-10 12:00:00 - 2022-07-12 05:59:59.999999.csv',\n",
       " '/app/data/2021-07/2021-07-08 18:00:00 - 2021-07-10 11:59:59.999999.csv',\n",
       " '/app/data/2021-07/2021-07-10 12:00:00 - 2021-07-12 05:59:59.999999.csv',\n",
       " '/app/data/2021-07/2021-07-07 00:00:00 - 2021-07-08 17:59:59.999999.csv',\n",
       " '/app/data/2021-07/2021-07-12 06:00:00 - 2021-07-13 23:59:59.999999.csv',\n",
       " '/app/data/2020-07/2020-07-07 00:00:00.000000 - 2020-07-08 17:59:59.999999.csv',\n",
       " '/app/data/2020-07/2020-07-10 12:00:00.000000 - 2020-07-12 05:59:59.999999.csv',\n",
       " '/app/data/2020-07/2020-07-08 18:00:00.000000 - 2020-07-10 11:59:59.999999.csv',\n",
       " '/app/data/2020-07/2020-07-12 06:00:00.000000 - 2020-07-13 23:59:59.999999.csv']"
      ]
     },
     "execution_count": 2,
     "metadata": {},
     "output_type": "execute_result"
    }
   ],
   "source": [
    "files = glob('/app/data/*/*.csv')\n",
    "files"
   ]
  },
  {
   "cell_type": "code",
   "execution_count": 23,
   "id": "a08a786d-fb0e-4607-b64a-5643735397fc",
   "metadata": {},
   "outputs": [],
   "source": [
    "spark = SparkSession.builder\\\n",
    "    .appName(\"TestJob\")\\\n",
    "    .master(\"spark://spark-master:7077\")\\\n",
    "    .getOrCreate()"
   ]
  },
  {
   "cell_type": "code",
   "execution_count": 24,
   "id": "37ddac1f-5479-42e8-8099-fcaf40dff018",
   "metadata": {},
   "outputs": [],
   "source": [
    "schema = t.StructType([\n",
    "    t.StructField('record_type', t.StringType()),\n",
    "    t.StructField('type', t.StringType()),\n",
    "    t.StructField('time', t.DoubleType()),\n",
    "    t.StructField('project', t.StringType()),\n",
    "    t.StructField('collector', t.StringType()),\n",
    "    t.StructField('router', t.StringType()),\n",
    "    t.StructField('router_ip', t.StringType()),\n",
    "    t.StructField('peer_asn', t.IntegerType()),\n",
    "    t.StructField('peer_address', t.StringType()),\n",
    "    t.StructField('prefix', t.StringType()),\n",
    "    t.StructField('next_hop', t.StringType()),\n",
    "    t.StructField('as_path', t.StringType()),\n",
    "    t.StructField('communities', t.StringType()),\n",
    "])\n",
    "\n",
    "df = spark.read.csv('/app/data/2024-07/1.csv', header=True, schema=schema)"
   ]
  },
  {
   "cell_type": "code",
   "execution_count": 25,
   "id": "23b92205-e642-4489-8c02-cda819d6dc18",
   "metadata": {},
   "outputs": [
    {
     "name": "stdout",
     "output_type": "stream",
     "text": [
      "+-----------+----+-------------------+----------+----------------+------+---------+--------+--------------------+-------------------+--------------------+--------------------+--------------------+\n",
      "|record_type|type|               time|   project|       collector|router|router_ip|peer_asn|        peer_address|             prefix|            next_hop|             as_path|         communities|\n",
      "+-----------+----+-------------------+----------+----------------+------+---------+--------+--------------------+-------------------+--------------------+--------------------+--------------------+\n",
      "|     update|   W|1.720310400067833E9|routeviews|route-views.eqix|  NULL|     NULL|   16552|2001:504:0:2:0:1:...|2a06:de05:626b::/48|                NULL|                NULL|                NULL|\n",
      "|     update|   W|1.720310400067833E9|routeviews|route-views.eqix|  NULL|     NULL|   16552|2001:504:0:2:0:1:...|2a06:de05:62c5::/48|                NULL|                NULL|                NULL|\n",
      "|     update|   W|1.720310400067833E9|routeviews|route-views.eqix|  NULL|     NULL|   16552|2001:504:0:2:0:1:...|2a06:de05:62ec::/48|                NULL|                NULL|                NULL|\n",
      "|     update|   W|1.720310400067833E9|routeviews|route-views.eqix|  NULL|     NULL|   16552|2001:504:0:2:0:1:...|2a0e:97c4:ac16::/48|                NULL|                NULL|                NULL|\n",
      "|     update|   A|1.720310400067928E9|routeviews|route-views.eqix|  NULL|     NULL|   16552|2001:504:0:2:0:1:...|2a0e:97c4:afa3::/48|2001:504:0:2:0:1:...|16552 3491 174 17...|16552:40011 3491:...|\n",
      "|     update|   A|1.720310400067928E9|routeviews|route-views.eqix|  NULL|     NULL|   16552|2001:504:0:2:0:1:...|2a0e:97c4:ae44::/48|2001:504:0:2:0:1:...|16552 3491 174 17...|16552:40011 3491:...|\n",
      "|     update|   A|1.720310400067993E9|routeviews|route-views.eqix|  NULL|     NULL|   16552|2001:504:0:2:0:1:...|2a06:de05:6289::/48|2001:504:0:2:0:1:...|16552 3491 174 53667|16552:40011 3491:...|\n",
      "|     update|   A|1.720310400068023E9|routeviews|route-views.eqix|  NULL|     NULL|   16552|2001:504:0:2:0:1:...|2600:40fc:1004::/48|2001:504:0:2:0:1:...|16552 3491 2914 1...|16552:40011 3491:...|\n",
      "|     update|   A|1.720310400098459E9|routeviews|route-views.eqix|  NULL|     NULL|    6830|2001:504:0:2::6830:1|2600:40fc:1004::/48|2001:504:0:2::6830:1|     6830 2914 14210|15133:44197 6830:...|\n",
      "|     update|   A|1.720310400115723E9|routeviews|route-views.eqix|  NULL|     NULL|   49544|2001:504:0:2:0:4:...|2600:40fc:1004::/48|2001:504:0:2:0:4:...|    49544 2914 14210|2914:2000 2914:30...|\n",
      "+-----------+----+-------------------+----------+----------------+------+---------+--------+--------------------+-------------------+--------------------+--------------------+--------------------+\n",
      "only showing top 10 rows\n",
      "\n"
     ]
    }
   ],
   "source": [
    "df.show(10)"
   ]
  },
  {
   "cell_type": "code",
   "execution_count": 26,
   "id": "ad7edc5d-0fa9-4e20-abc8-1b315ca9ca72",
   "metadata": {},
   "outputs": [],
   "source": [
    "start_unixtime = dt.datetime(2024, 7, 7).timestamp()\n",
    "end_unixtime = dt.datetime(2024, 7, 8).timestamp()"
   ]
  },
  {
   "cell_type": "code",
   "execution_count": 46,
   "id": "6c3503de-dc1c-4348-9996-a6715364a25e",
   "metadata": {},
   "outputs": [],
   "source": [
    "df = df.filter((df.time >= start_unixtime) & (df.time < end_unixtime)) \\\n",
    "       .withColumn('datetime', f.from_unixtime('time'))\\\n",
    "       .withColumn('hour', f.date_trunc('hour', 'datetime'))\\\n",
    "       .withColumn('as_path_split', f.split('as_path', ' '))\\\n",
    "       .withColumn(\n",
    "           'origin_asn', \n",
    "            f.get('as_path_split', f.size('as_path_split') - 1).cast(t.IntegerType())\n",
    "       )\\\n",
    "       .drop('as_path_split')\\\n",
    "       .groupBy('hour')\\\n",
    "       .agg(\n",
    "           f.countDistinct('peer_asn').alias('unique_peers'),\n",
    "           f.countDistinct('origin_asn').alias('unique_origins'),\n",
    "           f.countDistinct('prefix').alias('unique_prefixes'),\n",
    "           f.count('time').alias('updates')\n",
    "       )"
   ]
  },
  {
   "cell_type": "code",
   "execution_count": 47,
   "id": "8ea8a7ba-afcd-4956-a107-ae21813415ae",
   "metadata": {},
   "outputs": [
    {
     "name": "stderr",
     "output_type": "stream",
     "text": [
      "                                                                                "
     ]
    },
    {
     "data": {
      "text/html": [
       "<div>\n",
       "<style scoped>\n",
       "    .dataframe tbody tr th:only-of-type {\n",
       "        vertical-align: middle;\n",
       "    }\n",
       "\n",
       "    .dataframe tbody tr th {\n",
       "        vertical-align: top;\n",
       "    }\n",
       "\n",
       "    .dataframe thead th {\n",
       "        text-align: right;\n",
       "    }\n",
       "</style>\n",
       "<table border=\"1\" class=\"dataframe\">\n",
       "  <thead>\n",
       "    <tr style=\"text-align: right;\">\n",
       "      <th></th>\n",
       "      <th>hour</th>\n",
       "      <th>count(DISTINCT peer_asn)</th>\n",
       "      <th>count(DISTINCT origin_asn)</th>\n",
       "      <th>count(DISTINCT peer_asn)</th>\n",
       "    </tr>\n",
       "  </thead>\n",
       "  <tbody>\n",
       "    <tr>\n",
       "      <th>0</th>\n",
       "      <td>2024-07-07 22:00:00</td>\n",
       "      <td>26</td>\n",
       "      <td>21209</td>\n",
       "      <td>26</td>\n",
       "    </tr>\n",
       "    <tr>\n",
       "      <th>1</th>\n",
       "      <td>2024-07-07 04:00:00</td>\n",
       "      <td>26</td>\n",
       "      <td>16025</td>\n",
       "      <td>26</td>\n",
       "    </tr>\n",
       "    <tr>\n",
       "      <th>2</th>\n",
       "      <td>2024-07-07 21:00:00</td>\n",
       "      <td>26</td>\n",
       "      <td>26645</td>\n",
       "      <td>26</td>\n",
       "    </tr>\n",
       "    <tr>\n",
       "      <th>3</th>\n",
       "      <td>2024-07-07 08:00:00</td>\n",
       "      <td>25</td>\n",
       "      <td>7711</td>\n",
       "      <td>25</td>\n",
       "    </tr>\n",
       "    <tr>\n",
       "      <th>4</th>\n",
       "      <td>2024-07-07 01:00:00</td>\n",
       "      <td>27</td>\n",
       "      <td>18881</td>\n",
       "      <td>27</td>\n",
       "    </tr>\n",
       "  </tbody>\n",
       "</table>\n",
       "</div>"
      ],
      "text/plain": [
       "                 hour  count(DISTINCT peer_asn)  count(DISTINCT origin_asn)  \\\n",
       "0 2024-07-07 22:00:00                        26                       21209   \n",
       "1 2024-07-07 04:00:00                        26                       16025   \n",
       "2 2024-07-07 21:00:00                        26                       26645   \n",
       "3 2024-07-07 08:00:00                        25                        7711   \n",
       "4 2024-07-07 01:00:00                        27                       18881   \n",
       "\n",
       "   count(DISTINCT peer_asn)  \n",
       "0                        26  \n",
       "1                        26  \n",
       "2                        26  \n",
       "3                        25  \n",
       "4                        27  "
      ]
     },
     "execution_count": 47,
     "metadata": {},
     "output_type": "execute_result"
    }
   ],
   "source": [
    "df.limit(5).toPandas()"
   ]
  },
  {
   "cell_type": "code",
   "execution_count": 9,
   "id": "47f7736f-8fd7-40ab-8727-73ebaa2888ee",
   "metadata": {},
   "outputs": [
    {
     "name": "stderr",
     "output_type": "stream",
     "text": [
      "[Stage 3:>                                                          (0 + 1) / 1]"
     ]
    },
    {
     "name": "stdout",
     "output_type": "stream",
     "text": [
      "+-------------------+------------------------+\n",
      "|               hour|count(DISTINCT peer_asn)|\n",
      "+-------------------+------------------------+\n",
      "|2024-07-07 00:00:00|                      26|\n",
      "+-------------------+------------------------+\n",
      "\n"
     ]
    },
    {
     "name": "stderr",
     "output_type": "stream",
     "text": [
      "                                                                                "
     ]
    }
   ],
   "source": [
    "df.show()"
   ]
  },
  {
   "cell_type": "code",
   "execution_count": 52,
   "id": "71e1a857-203e-43d9-88b8-804ea8ac957c",
   "metadata": {},
   "outputs": [],
   "source": [
    "# spark.stop()"
   ]
  },
  {
   "cell_type": "code",
   "execution_count": null,
   "id": "8cc85d57-ae56-4dc1-b791-363446b2ef3c",
   "metadata": {},
   "outputs": [],
   "source": []
  }
 ],
 "metadata": {
  "kernelspec": {
   "display_name": "Python 3 (ipykernel)",
   "language": "python",
   "name": "python3"
  },
  "language_info": {
   "codemirror_mode": {
    "name": "ipython",
    "version": 3
   },
   "file_extension": ".py",
   "mimetype": "text/x-python",
   "name": "python",
   "nbconvert_exporter": "python",
   "pygments_lexer": "ipython3",
   "version": "3.11.11"
  }
 },
 "nbformat": 4,
 "nbformat_minor": 5
}
